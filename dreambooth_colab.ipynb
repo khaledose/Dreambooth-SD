{
  "cells": [
    {
      "cell_type": "code",
      "execution_count": null,
      "metadata": {
        "cellView": "form",
        "colab": {
          "base_uri": "https://localhost:8080/"
        },
        "id": "9g2cPEPBdtSx",
        "outputId": "69acd041-1735-4514-ac8b-97623b30f92b"
      },
      "outputs": [],
      "source": [
        "#@title ### Mount Google Drive\n",
        "\n",
        "from google.colab import drive\n",
        "drive.mount('/content/gdrive')"
      ]
    },
    {
      "cell_type": "code",
      "execution_count": null,
      "metadata": {
        "cellView": "form",
        "id": "R44B3yRn_7U-"
      },
      "outputs": [],
      "source": [
        "#@title ### Prepare Dependencies\n",
        "%%capture\n",
        "!git clone --branch updt https://github.com/TheLastBen/diffusers\n",
        "!pip install -q diffusers\n",
        "!pip install -U accelerate\n",
        "!pip install -U transformers\n",
        "!pip install -U wget\n",
        "!pip install -U bitsandbytes\n",
        "!pip install -U xformers\n",
        "!pip install -U triton"
      ]
    },
    {
      "cell_type": "code",
      "execution_count": null,
      "metadata": {
        "cellView": "form",
        "id": "JpJYfZPB_7U_"
      },
      "outputs": [],
      "source": [
        "%%capture\n",
        "from pathlib import Path\n",
        "import wget\n",
        "#@title ### Model Selection\n",
        "\n",
        "MODEL_NAME = \"nitrosocke/archer-diffusion\" #@param [\"runwayml/stable-diffusion-v1-5\", \"nitrosocke/Arcane-Diffusion\", \"nitrosocke/mo-di-diffusion\", \"nitrosocke/spider-verse-diffusion\", \"nitrosocke/Ghibli-Diffusion\", \"nitrosocke/archer-diffusion\", \"nitrosocke/classic-anim-diffusion\", \"DGSpitzer/Cyberpunk-Anime-Diffusion\", \"dallinmackay/Tron-Legacy-diffusion\", \"Envvi/Inkpunk-Diffusion\", \"dallinmackay/Van-Gogh-diffusion\", \"ogkalu/Comic-Diffusion\"]\n",
        "CLASS_NAME = 'person' #@param [\"person\", \"man\", \"woman\"]\n",
        "INSTANCE_TOKEN = 'abotrika' #@param{type: 'string'}\n",
        "\n",
        "#===============================================================================\n",
        "\n",
        "class_path = Path('./regularization_images')\n",
        "if not class_path.exists():\n",
        "    class_path.mkdir(parents=True)\n",
        "\n",
        "output_path = Path('./output').joinpath(INSTANCE_TOKEN).joinpath(MODEL_NAME)\n",
        "if not output_path.exists():\n",
        "    output_path.mkdir(parents=True)\n",
        "\n",
        "CLASS_DIR = class_path.as_posix()\n",
        "OUTPUT_DIR = output_path.as_posix()\n",
        "\n",
        "#===============================================================================\n",
        "\n",
        "if CLASS_NAME == 'person':\n",
        "    data_file = 'person_v1-5_mse_vae_ddim50_cfg7_n2115'\n",
        "elif CLASS_NAME == 'man':\n",
        "    data_file = 'guy_v1-5_mse_vae_ddim50_cfg7_n4820'\n",
        "elif CLASS_NAME == 'woman':\n",
        "    data_file = 'woman_v1-5_mse_vae_ddim50_cfg7_n4420'\n",
        "\n",
        "url = f'https://huggingface.co/datasets/ProGamerGov/StableDiffusion-v1-5-Regularization-Images/resolve/main/{data_file}.zip'\n",
        "\n",
        "file = wget.download(url=url, out=f'{CLASS_DIR}')\n",
        "\n",
        "filename = Path(file).name.replace('.zip', '')\n",
        "\n",
        "!unzip -q -o -d $CLASS_DIR $file \n",
        "!rm $file\n",
        "\n",
        "#===============================================================================\n",
        "\n",
        "class_path = class_path.joinpath(filename)\n",
        "CLASS_DIR = class_path.as_posix()"
      ]
    },
    {
      "cell_type": "code",
      "execution_count": null,
      "metadata": {
        "cellView": "form",
        "id": "5GpUgnjj_7VB"
      },
      "outputs": [],
      "source": [
        "from google.colab import files\n",
        "import shutil\n",
        "import gdown\n",
        "import os\n",
        "\n",
        "#@title ### Add Google Drive URL that contains the images you want to use.\n",
        "#@markdown - Leave the URL empty to upload the files directly.\n",
        "\n",
        "instances_path = Path('./instance_images')\n",
        "if not instances_path.exists():\n",
        "    instances_path.mkdir(parents=True)\n",
        "\n",
        "INSTANCE_DIR = instances_path.as_posix()\n",
        "\n",
        "GDRIVE__URL = \"https://drive.google.com/drive/folders/1czBGt198hM_cGtareNj2SF30KHV8PhTK?usp=share_link\" #@param {type:\"string\"}\n",
        "\n",
        "\n",
        "if len(GDRIVE__URL) > 0:    \n",
        "    gdown.download_folder(GDRIVE__URL, quiet=True, use_cookies=False, output=INSTANCE_DIR)\n",
        "    for i, img in enumerate(os.listdir(INSTANCE_DIR)):\n",
        "        os.rename(instances_path.joinpath(img).as_posix(), \n",
        "                  instances_path.joinpath(f'{INSTANCE_TOKEN}-({i}).png').as_posix())\n",
        "else:\n",
        "    imgs = files.upload()\n",
        "    for i, img in enumerate(imgs.keys()):\n",
        "        p = instances_path.joinpath(f'{INSTANCE_TOKEN}-({i}).png')\n",
        "        shutil.move(img, p.as_posix())\n"
      ]
    },
    {
      "cell_type": "code",
      "execution_count": null,
      "metadata": {
        "colab": {
          "base_uri": "https://localhost:8080/"
        },
        "id": "rooqctLZ_7VC",
        "outputId": "48310114-aa73-4f93-9def-d62094caac27"
      },
      "outputs": [],
      "source": [
        "import random\n",
        "\n",
        "#@title ### Training\n",
        "\n",
        "TRAINING_STEPS = 3000 #@param {type:\"integer\"}\n",
        "CLASS_IMAGES_NUM = 200 #@param {type:\"integer\"}\n",
        "SEED = None #@param {type:\"number\"}\n",
        "if SEED is None:\n",
        "    SEED = random.randint(1, 999999)\n",
        "\n",
        "#===============================================================================\n",
        "\n",
        "steps = TRAINING_STEPS // 10\n",
        "!accelerate launch --mixed_precision=\"fp16\" diffusers/examples/dreambooth/train_dreambooth.py \\\n",
        "    --image_captions_filename \\\n",
        "    --train_text_encoder \\\n",
        "    --dump_only_text_encoder \\\n",
        "    --pretrained_model_name_or_path=\"$MODEL_NAME\" \\\n",
        "    --instance_data_dir=\"$INSTANCE_DIR\" \\\n",
        "    --class_data_dir=\"$CLASS_DIR\" \\\n",
        "    --output_dir=\"$OUTPUT_DIR\" \\\n",
        "    --with_prior_preservation --prior_loss_weight=1.0 \\\n",
        "    --mixed_precision=\"fp16\" \\\n",
        "    --seed=$SEED \\\n",
        "    --resolution=512 \\\n",
        "    --train_batch_size=1 \\\n",
        "    --gradient_accumulation_steps=1 --gradient_checkpointing \\\n",
        "    --use_8bit_adam \\\n",
        "    --learning_rate=2e-6 \\\n",
        "    --lr_scheduler=\"polynomial\" \\\n",
        "    --lr_warmup_steps=0 \\\n",
        "    --max_train_steps=$steps \\\n",
        "    --num_class_images=200\n",
        "\n",
        "#===============================================================================\n",
        "\n",
        "!accelerate launch --mixed_precision=\"fp16\" diffusers/examples/dreambooth/train_dreambooth.py \\\n",
        "    --image_captions_filename \\\n",
        "    --train_only_unet \\\n",
        "    --save_starting_step=5000 \\\n",
        "    --save_n_steps=5000 \\\n",
        "    --pretrained_model_name_or_path=\"$MODEL_NAME\" \\\n",
        "    --instance_data_dir=\"$INSTANCE_DIR\" \\\n",
        "    --output_dir=\"$OUTPUT_DIR\" \\\n",
        "    --seed=$SEED \\\n",
        "    --resolution=512 \\\n",
        "    --mixed_precision=\"fp16\" \\\n",
        "    --train_batch_size=1 \\\n",
        "    --gradient_accumulation_steps=1 --gradient_checkpointing \\\n",
        "    --use_8bit_adam \\\n",
        "    --learning_rate=2e-6 \\\n",
        "    --lr_scheduler=\"polynomial\" \\\n",
        "    --lr_warmup_steps=0 \\\n",
        "    --max_train_steps=$TRAINING_STEPS"
      ]
    },
    {
      "cell_type": "code",
      "execution_count": null,
      "metadata": {
        "cellView": "form",
        "colab": {
          "base_uri": "https://localhost:8080/"
        },
        "id": "TYHPjfOG_7VD",
        "outputId": "2d1411be-0bdd-4d3c-f698-2e4e292ed7a8"
      },
      "outputs": [],
      "source": [
        "#@title Save Checkpoint to Google Drive\n",
        "SAVE_LOCATION = \"My Stable Diffusion/Models\" #@param {type:\"string\"}\n",
        "\n",
        "ckpt_path = Path(f'/content/gdrive/MyDrive/{SAVE_LOCATION}')\n",
        "if not ckpt_path.exists():\n",
        "    ckpt_path.mkdir(parents=True)\n",
        "\n",
        "ckpt_path = ckpt_path.joinpath(f'{INSTANCE_TOKEN}_archer.ckpt')\n",
        "CKPT_DIR = ckpt_path.as_posix()\n",
        "\n",
        "!python diffusers/scripts/convert_diffusers_to_original_stable_diffusion.py --model_path $OUTPUT_DIR  --checkpoint_path \"$CKPT_DIR\" --half"
      ]
    }
  ],
  "metadata": {
    "accelerator": "GPU",
    "colab": {
      "provenance": []
    },
    "gpuClass": "standard",
    "kernelspec": {
      "display_name": "Python 3.8.10 64-bit",
      "language": "python",
      "name": "python3"
    },
    "language_info": {
      "codemirror_mode": {
        "name": "ipython",
        "version": 3
      },
      "file_extension": ".py",
      "mimetype": "text/x-python",
      "name": "python",
      "nbconvert_exporter": "python",
      "pygments_lexer": "ipython3",
      "version": "3.8.10 (default, Jun 22 2022, 20:18:18) \n[GCC 9.4.0]"
    },
    "orig_nbformat": 4,
    "vscode": {
      "interpreter": {
        "hash": "916dbcbb3f70747c44a77c7bcd40155683ae19c65e1c03b4aa3499c5328201f1"
      }
    }
  },
  "nbformat": 4,
  "nbformat_minor": 0
}
